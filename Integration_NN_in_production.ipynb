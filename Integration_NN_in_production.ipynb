{
  "nbformat": 4,
  "nbformat_minor": 0,
  "metadata": {
    "colab": {
      "name": "Integration NN in production",
      "provenance": [],
      "authorship_tag": "ABX9TyNNTkhySAxIEWne+x1Lxg6C",
      "include_colab_link": true
    },
    "kernelspec": {
      "name": "python3",
      "display_name": "Python 3"
    },
    "accelerator": "GPU"
  },
  "cells": [
    {
      "cell_type": "markdown",
      "metadata": {
        "id": "view-in-github",
        "colab_type": "text"
      },
      "source": [
        "<a href=\"https://colab.research.google.com/github/Andrey-Mel/Integration_prodact/blob/main/Integration_NN_in_production.ipynb\" target=\"_parent\"><img src=\"https://colab.research.google.com/assets/colab-badge.svg\" alt=\"Open In Colab\"/></a>"
      ]
    },
    {
      "cell_type": "code",
      "metadata": {
        "colab": {
          "base_uri": "https://localhost:8080/"
        },
        "id": "HG0trlvylwCa",
        "outputId": "5a69d54e-834b-47c9-a869-648892ad5119"
      },
      "source": [
        "#В колабе я создам и обучу модель для cifar10 и сохраню в формате SavedModel.\n",
        "#Это сделаю из-за своего слабого компа.\n",
        "#А установлю docker и tensorflow servin у себя и буду туда уже делать запросы\n",
        "\n",
        "import tensorflow as tf\n",
        "from tensorflow import keras\n",
        "from tensorflow.keras import Sequential\n",
        "from tensorflow.keras.layers import Conv2D, Dense, Flatten, MaxPooling2D\n",
        "import tempfile\n",
        "import matplotlib.pyplot as plt\n",
        "import os \n",
        "from tensorflow.keras.datasets import cifar10,\n",
        "\n",
        "\n",
        "#будем отслеживать все ошибки\n",
        "import subprocess\n",
        "\n",
        "#версия tf\n",
        "print(tf.__version__)"
      ],
      "execution_count": null,
      "outputs": [
        {
          "output_type": "stream",
          "text": [
            "2.4.1\n"
          ],
          "name": "stdout"
        }
      ]
    },
    {
      "cell_type": "code",
      "metadata": {
        "colab": {
          "base_uri": "https://localhost:8080/"
        },
        "id": "qqmYYg8E3Qq1",
        "outputId": "6826b98a-69c4-4a60-dd0d-47d56bbf51cb"
      },
      "source": [
        "from google.colab import drive\n",
        "drive.mount('/content/drive')"
      ],
      "execution_count": null,
      "outputs": [
        {
          "output_type": "stream",
          "text": [
            "Mounted at /content/drive\n"
          ],
          "name": "stdout"
        }
      ]
    },
    {
      "cell_type": "markdown",
      "metadata": {
        "id": "VRyjZRHbnymm"
      },
      "source": [
        "## Создаю датасет"
      ]
    },
    {
      "cell_type": "code",
      "metadata": {
        "colab": {
          "base_uri": "https://localhost:8080/"
        },
        "id": "NS-AK7hcnyIP",
        "outputId": "cdcdf1b3-0b3d-4f33-dab6-253b1375a297"
      },
      "source": [
        "#создание обучающей и проверочной выборки\n",
        "(xTrain, yTrain),(xTest, yTest) = cifar10.load_data()\n",
        "#(X_train, Y_train), (X_test, Y_test) = cifar10.load_data()\n",
        "#нормализуем значения пикселей до интервала от0 до 1\n",
        "xTrain = xTrain/255\n",
        "xTest = xTest/255\n",
        "\n",
        "#приводим к виду 4D тензора\n",
        "xTrain = xTrain.reshape(xTrain.shape[0], 32, 32, 3)\n",
        "xTest = xTest.reshape(xTest.shape[0], 32, 32, 3)\n",
        "\n",
        "#Название классов\n",
        "class_names = ['самолет','автомобиль','птица','кот','олень','собака','лягушка','лошадь','корабль','грузовик']\n",
        "\n",
        "print('\\n размер обучающей выбборки: {}'.format(xTrain.shape))\n",
        "print('размер тестовой выборки: {}'.format(xTest.shape))\n",
        "print('количество классов {}'.format(len(class_names)))"
      ],
      "execution_count": null,
      "outputs": [
        {
          "output_type": "stream",
          "text": [
            "Downloading data from https://www.cs.toronto.edu/~kriz/cifar-10-python.tar.gz\n",
            "170500096/170498071 [==============================] - 2s 0us/step\n",
            "\n",
            " размер обучающей выбборки: (50000, 32, 32, 3)\n",
            "размер тестовой выборки: (10000, 32, 32, 3)\n",
            "количество классов 10\n"
          ],
          "name": "stdout"
        }
      ]
    },
    {
      "cell_type": "markdown",
      "metadata": {
        "id": "wUK-BqbxxDvz"
      },
      "source": [
        "**Модель**"
      ]
    },
    {
      "cell_type": "code",
      "metadata": {
        "colab": {
          "base_uri": "https://localhost:8080/"
        },
        "id": "EVdXC_TZwwKH",
        "outputId": "dcbfb7a1-ffa9-4453-aecf-ac6e666d0c0e"
      },
      "source": [
        "model = Sequential()\n",
        "model.add(Conv2D(filters=8, kernel_size=3, activation='relu', input_shape=(32,32,3)))\n",
        "model.add(Conv2D(filters=8, kernel_size=3, activation='relu'))\n",
        "model.add(MaxPooling2D(2))\n",
        "model.add(Flatten())\n",
        "model.add(Dense(10, activation='softmax'))\n",
        "\n",
        "model.compile(optimizer = tf.keras.optimizers.Adam(),\n",
        "              loss='sparse_categorical_crossentropy',\n",
        "              metrics=['accuracy'])\n",
        "\n",
        "model.summary()\n",
        "\n",
        "#Обучение\n",
        "model.fit(xTrain, yTrain, epochs=30)\n",
        "\n",
        "#Проверка точности модели\n",
        "test_locc, test_acc = model.evaluate(xTest, yTest)\n",
        "print()\n",
        "print('\\n Точность на проверке: {}'.format(test_acc))"
      ],
      "execution_count": null,
      "outputs": [
        {
          "output_type": "stream",
          "text": [
            "Model: \"sequential_2\"\n",
            "_________________________________________________________________\n",
            "Layer (type)                 Output Shape              Param #   \n",
            "=================================================================\n",
            "conv2d_2 (Conv2D)            (None, 30, 30, 8)         224       \n",
            "_________________________________________________________________\n",
            "conv2d_3 (Conv2D)            (None, 28, 28, 8)         584       \n",
            "_________________________________________________________________\n",
            "max_pooling2d_1 (MaxPooling2 (None, 14, 14, 8)         0         \n",
            "_________________________________________________________________\n",
            "flatten_2 (Flatten)          (None, 1568)              0         \n",
            "_________________________________________________________________\n",
            "dense_2 (Dense)              (None, 10)                15690     \n",
            "=================================================================\n",
            "Total params: 16,498\n",
            "Trainable params: 16,498\n",
            "Non-trainable params: 0\n",
            "_________________________________________________________________\n",
            "Epoch 1/30\n",
            "1563/1563 [==============================] - 4s 2ms/step - loss: 1.8114 - accuracy: 0.3451\n",
            "Epoch 2/30\n",
            "1563/1563 [==============================] - 4s 2ms/step - loss: 1.4465 - accuracy: 0.4895\n",
            "Epoch 3/30\n",
            "1563/1563 [==============================] - 4s 2ms/step - loss: 1.3465 - accuracy: 0.5252\n",
            "Epoch 4/30\n",
            "1563/1563 [==============================] - 4s 2ms/step - loss: 1.3148 - accuracy: 0.5348\n",
            "Epoch 5/30\n",
            "1563/1563 [==============================] - 4s 2ms/step - loss: 1.2472 - accuracy: 0.5614\n",
            "Epoch 6/30\n",
            "1563/1563 [==============================] - 4s 3ms/step - loss: 1.2103 - accuracy: 0.5773\n",
            "Epoch 7/30\n",
            "1563/1563 [==============================] - 4s 3ms/step - loss: 1.1740 - accuracy: 0.5861\n",
            "Epoch 8/30\n",
            "1563/1563 [==============================] - 4s 2ms/step - loss: 1.1426 - accuracy: 0.6011\n",
            "Epoch 9/30\n",
            "1563/1563 [==============================] - 4s 2ms/step - loss: 1.1320 - accuracy: 0.6025\n",
            "Epoch 10/30\n",
            "1563/1563 [==============================] - 4s 3ms/step - loss: 1.1018 - accuracy: 0.6105\n",
            "Epoch 11/30\n",
            "1563/1563 [==============================] - 4s 2ms/step - loss: 1.0858 - accuracy: 0.6185\n",
            "Epoch 12/30\n",
            "1563/1563 [==============================] - 4s 2ms/step - loss: 1.0730 - accuracy: 0.6231\n",
            "Epoch 13/30\n",
            "1563/1563 [==============================] - 4s 2ms/step - loss: 1.0430 - accuracy: 0.6317\n",
            "Epoch 14/30\n",
            "1563/1563 [==============================] - 4s 2ms/step - loss: 1.0350 - accuracy: 0.6396\n",
            "Epoch 15/30\n",
            "1563/1563 [==============================] - 4s 2ms/step - loss: 1.0390 - accuracy: 0.6338\n",
            "Epoch 16/30\n",
            "1563/1563 [==============================] - 4s 2ms/step - loss: 1.0269 - accuracy: 0.6416\n",
            "Epoch 17/30\n",
            "1563/1563 [==============================] - 4s 3ms/step - loss: 1.0118 - accuracy: 0.6485\n",
            "Epoch 18/30\n",
            "1563/1563 [==============================] - 4s 3ms/step - loss: 1.0061 - accuracy: 0.6468\n",
            "Epoch 19/30\n",
            "1563/1563 [==============================] - 4s 2ms/step - loss: 0.9905 - accuracy: 0.6508\n",
            "Epoch 20/30\n",
            "1563/1563 [==============================] - 4s 3ms/step - loss: 0.9924 - accuracy: 0.6526\n",
            "Epoch 21/30\n",
            "1563/1563 [==============================] - 4s 3ms/step - loss: 0.9800 - accuracy: 0.6566\n",
            "Epoch 22/30\n",
            "1563/1563 [==============================] - 4s 3ms/step - loss: 0.9672 - accuracy: 0.6640\n",
            "Epoch 23/30\n",
            "1563/1563 [==============================] - 4s 3ms/step - loss: 0.9770 - accuracy: 0.6589\n",
            "Epoch 24/30\n",
            "1563/1563 [==============================] - 4s 2ms/step - loss: 0.9675 - accuracy: 0.6626\n",
            "Epoch 25/30\n",
            "1563/1563 [==============================] - 4s 3ms/step - loss: 0.9491 - accuracy: 0.6663\n",
            "Epoch 26/30\n",
            "1563/1563 [==============================] - 4s 3ms/step - loss: 0.9557 - accuracy: 0.6641\n",
            "Epoch 27/30\n",
            "1563/1563 [==============================] - 4s 3ms/step - loss: 0.9526 - accuracy: 0.6680\n",
            "Epoch 28/30\n",
            "1563/1563 [==============================] - 4s 3ms/step - loss: 0.9486 - accuracy: 0.6676\n",
            "Epoch 29/30\n",
            "1563/1563 [==============================] - 4s 2ms/step - loss: 0.9418 - accuracy: 0.6719\n",
            "Epoch 30/30\n",
            "1563/1563 [==============================] - 4s 3ms/step - loss: 0.9469 - accuracy: 0.6667\n",
            "313/313 [==============================] - 1s 2ms/step - loss: 1.1289 - accuracy: 0.6095\n",
            "\n",
            "\n",
            " Точность на проверке: 0.609499990940094\n"
          ],
          "name": "stdout"
        }
      ]
    },
    {
      "cell_type": "markdown",
      "metadata": {
        "id": "MAznSOTG7jcM"
      },
      "source": [
        "**Сохраняю моделль.**\n",
        "\n",
        "Чтобы загрузить модель в Tf Serving, модель необходимо сохранить в формате SavedModel, это создаст файл Protobuf, в папке с четко прописаным путем."
      ]
    },
    {
      "cell_type": "code",
      "metadata": {
        "colab": {
          "base_uri": "https://localhost:8080/"
        },
        "id": "twQh3DXI8KcP",
        "outputId": "73d10a8c-5690-4d3e-d7a3-6c114a4fc1e6"
      },
      "source": [
        "MODEL_DIREC = '/content/my_model' #Создание временной директории для хранения модели\n",
        "version = 1 #номер версии\n",
        "export_path = os.path.join(MODEL_DIREC, str(version))\n",
        "print(\"Путь экспорта = {}\\n\".format(export_path))"
      ],
      "execution_count": null,
      "outputs": [
        {
          "output_type": "stream",
          "text": [
            "Путь экспорта = /content/my_model/1\n",
            "\n"
          ],
          "name": "stdout"
        }
      ]
    },
    {
      "cell_type": "code",
      "metadata": {
        "id": "kQQpAiWS9Pcy"
      },
      "source": [
        "if os.path.isdir(export_path):\n",
        "  print('\\nМодель сохранена\\n')\n",
        "  !rm -r {export_path}"
      ],
      "execution_count": null,
      "outputs": []
    },
    {
      "cell_type": "code",
      "metadata": {
        "colab": {
          "base_uri": "https://localhost:8080/"
        },
        "id": "lyqEmcwQ9uXD",
        "outputId": "f977712a-8359-497e-8a3f-4d35a00a19e4"
      },
      "source": [
        "#Сохраняю модель в формате SavedModel\n",
        "tf.keras.models.save_model(\n",
        "    model,\n",
        "    export_path,\n",
        "    overwrite = True,\n",
        "    include_optimizer=True,\n",
        "    save_format=None,\n",
        "    signatures = None,\n",
        "    options=None\n",
        ")\n",
        "\n",
        "print('\\nСохраненная модель: ')\n",
        "!ls -l {export_path}"
      ],
      "execution_count": null,
      "outputs": [
        {
          "output_type": "stream",
          "text": [
            "INFO:tensorflow:Assets written to: /content/my_model/1/assets\n",
            "\n",
            "Сохраненная модель: \n",
            "total 116\n",
            "drwxr-xr-x 2 root root   4096 Feb 13 15:20 assets\n",
            "-rw-r--r-- 1 root root 110083 Feb 13 15:20 saved_model.pb\n",
            "drwxr-xr-x 2 root root   4096 Feb 13 15:20 variables\n"
          ],
          "name": "stdout"
        }
      ]
    },
    {
      "cell_type": "code",
      "metadata": {
        "colab": {
          "base_uri": "https://localhost:8080/"
        },
        "id": "_PI4Z8pQ_rmf",
        "outputId": "2b0ad43f-6aae-4e8e-80ba-8b485115b469"
      },
      "source": [
        "#Протестирую нашу сохранненную модель\n",
        "!saved_model_cli show --dir {export_path} --all"
      ],
      "execution_count": null,
      "outputs": [
        {
          "output_type": "stream",
          "text": [
            "\n",
            "MetaGraphDef with tag-set: 'serve' contains the following SignatureDefs:\n",
            "\n",
            "signature_def['__saved_model_init_op']:\n",
            "  The given SavedModel SignatureDef contains the following input(s):\n",
            "  The given SavedModel SignatureDef contains the following output(s):\n",
            "    outputs['__saved_model_init_op'] tensor_info:\n",
            "        dtype: DT_INVALID\n",
            "        shape: unknown_rank\n",
            "        name: NoOp\n",
            "  Method name is: \n",
            "\n",
            "signature_def['serving_default']:\n",
            "  The given SavedModel SignatureDef contains the following input(s):\n",
            "    inputs['conv2d_2_input'] tensor_info:\n",
            "        dtype: DT_FLOAT\n",
            "        shape: (-1, 32, 32, 3)\n",
            "        name: serving_default_conv2d_2_input:0\n",
            "  The given SavedModel SignatureDef contains the following output(s):\n",
            "    outputs['dense_2'] tensor_info:\n",
            "        dtype: DT_FLOAT\n",
            "        shape: (-1, 10)\n",
            "        name: StatefulPartitionedCall:0\n",
            "  Method name is: tensorflow/serving/predict\n",
            "WARNING: Logging before flag parsing goes to stderr.\n",
            "W0213 15:26:20.148871 140667532420992 deprecation.py:506] From /usr/local/lib/python2.7/dist-packages/tensorflow_core/python/ops/resource_variable_ops.py:1786: calling __init__ (from tensorflow.python.ops.resource_variable_ops) with constraint is deprecated and will be removed in a future version.\n",
            "Instructions for updating:\n",
            "If using Keras pass *_constraint arguments to layers.\n",
            "\n",
            "Defined Functions:\n",
            "  Function Name: '__call__'\n",
            "    Option #1\n",
            "      Callable with:\n",
            "        Argument #1\n",
            "          conv2d_2_input: TensorSpec(shape=(None, 32, 32, 3), dtype=tf.float32, name=u'conv2d_2_input')\n",
            "        Argument #2\n",
            "          DType: bool\n",
            "          Value: False\n",
            "        Argument #3\n",
            "          DType: NoneType\n",
            "          Value: None\n",
            "    Option #2\n",
            "      Callable with:\n",
            "        Argument #1\n",
            "          inputs: TensorSpec(shape=(None, 32, 32, 3), dtype=tf.float32, name=u'inputs')\n",
            "        Argument #2\n",
            "          DType: bool\n",
            "          Value: False\n",
            "        Argument #3\n",
            "          DType: NoneType\n",
            "          Value: None\n",
            "    Option #3\n",
            "      Callable with:\n",
            "        Argument #1\n",
            "          conv2d_2_input: TensorSpec(shape=(None, 32, 32, 3), dtype=tf.float32, name=u'conv2d_2_input')\n",
            "        Argument #2\n",
            "          DType: bool\n",
            "          Value: True\n",
            "        Argument #3\n",
            "          DType: NoneType\n",
            "          Value: None\n",
            "    Option #4\n",
            "      Callable with:\n",
            "        Argument #1\n",
            "          inputs: TensorSpec(shape=(None, 32, 32, 3), dtype=tf.float32, name=u'inputs')\n",
            "        Argument #2\n",
            "          DType: bool\n",
            "          Value: True\n",
            "        Argument #3\n",
            "          DType: NoneType\n",
            "          Value: None\n",
            "\n",
            "  Function Name: '_default_save_signature'\n",
            "    Option #1\n",
            "      Callable with:\n",
            "        Argument #1\n",
            "          conv2d_2_input: TensorSpec(shape=(None, 32, 32, 3), dtype=tf.float32, name=u'conv2d_2_input')\n",
            "\n",
            "  Function Name: 'call_and_return_all_conditional_losses'\n",
            "    Option #1\n",
            "      Callable with:\n",
            "        Argument #1\n",
            "          inputs: TensorSpec(shape=(None, 32, 32, 3), dtype=tf.float32, name=u'inputs')\n",
            "        Argument #2\n",
            "          DType: bool\n",
            "          Value: False\n",
            "        Argument #3\n",
            "          DType: NoneType\n",
            "          Value: None\n",
            "    Option #2\n",
            "      Callable with:\n",
            "        Argument #1\n",
            "          conv2d_2_input: TensorSpec(shape=(None, 32, 32, 3), dtype=tf.float32, name=u'conv2d_2_input')\n",
            "        Argument #2\n",
            "          DType: bool\n",
            "          Value: False\n",
            "        Argument #3\n",
            "          DType: NoneType\n",
            "          Value: None\n",
            "    Option #3\n",
            "      Callable with:\n",
            "        Argument #1\n",
            "          conv2d_2_input: TensorSpec(shape=(None, 32, 32, 3), dtype=tf.float32, name=u'conv2d_2_input')\n",
            "        Argument #2\n",
            "          DType: bool\n",
            "          Value: True\n",
            "        Argument #3\n",
            "          DType: NoneType\n",
            "          Value: None\n",
            "    Option #4\n",
            "      Callable with:\n",
            "        Argument #1\n",
            "          inputs: TensorSpec(shape=(None, 32, 32, 3), dtype=tf.float32, name=u'inputs')\n",
            "        Argument #2\n",
            "          DType: bool\n",
            "          Value: True\n",
            "        Argument #3\n",
            "          DType: NoneType\n",
            "          Value: None\n"
          ],
          "name": "stdout"
        }
      ]
    },
    {
      "cell_type": "markdown",
      "metadata": {
        "id": "DCwm2XBaY2Q6"
      },
      "source": [
        "Дальше запускается локальный браузер и видим предсказание цифр"
      ]
    }
  ]
}